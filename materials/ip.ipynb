{
 "cells": [
  {
   "cell_type": "code",
   "execution_count": 1,
   "id": "00b94049",
   "metadata": {},
   "outputs": [],
   "source": [
    "import numpy as np"
   ]
  },
  {
   "cell_type": "markdown",
   "id": "18ee5cbd",
   "metadata": {},
   "source": [
    "`192.168.1.234`"
   ]
  },
  {
   "cell_type": "code",
   "execution_count": 2,
   "id": "bd399c54",
   "metadata": {},
   "outputs": [
    {
     "data": {
      "text/plain": [
       "255"
      ]
     },
     "execution_count": 2,
     "metadata": {},
     "output_type": "execute_result"
    }
   ],
   "source": [
    "0b11111111"
   ]
  },
  {
   "cell_type": "code",
   "execution_count": 3,
   "id": "00b46676",
   "metadata": {},
   "outputs": [
    {
     "data": {
      "text/plain": [
       "192"
      ]
     },
     "execution_count": 3,
     "metadata": {},
     "output_type": "execute_result"
    }
   ],
   "source": [
    "12*16"
   ]
  },
  {
   "cell_type": "code",
   "execution_count": 4,
   "id": "db064d48",
   "metadata": {},
   "outputs": [
    {
     "data": {
      "text/plain": [
       "192"
      ]
     },
     "execution_count": 4,
     "metadata": {},
     "output_type": "execute_result"
    }
   ],
   "source": [
    "0xC0"
   ]
  },
  {
   "cell_type": "code",
   "execution_count": 5,
   "id": "25e60006",
   "metadata": {},
   "outputs": [
    {
     "data": {
      "text/plain": [
       "'0xc0'"
      ]
     },
     "execution_count": 5,
     "metadata": {},
     "output_type": "execute_result"
    }
   ],
   "source": [
    "hex(192)"
   ]
  },
  {
   "cell_type": "code",
   "execution_count": 6,
   "id": "4829c122",
   "metadata": {},
   "outputs": [
    {
     "data": {
      "text/plain": [
       "'0xa8'"
      ]
     },
     "execution_count": 6,
     "metadata": {},
     "output_type": "execute_result"
    }
   ],
   "source": [
    "hex(168)"
   ]
  },
  {
   "cell_type": "code",
   "execution_count": 7,
   "id": "ec4a4ac8",
   "metadata": {},
   "outputs": [
    {
     "data": {
      "text/plain": [
       "'0x1'"
      ]
     },
     "execution_count": 7,
     "metadata": {},
     "output_type": "execute_result"
    }
   ],
   "source": [
    "hex(1)"
   ]
  },
  {
   "cell_type": "code",
   "execution_count": 8,
   "id": "b0a63853",
   "metadata": {},
   "outputs": [
    {
     "data": {
      "text/plain": [
       "'0xea'"
      ]
     },
     "execution_count": 8,
     "metadata": {},
     "output_type": "execute_result"
    }
   ],
   "source": [
    "hex(234)"
   ]
  },
  {
   "cell_type": "code",
   "execution_count": 11,
   "id": "57e48e98",
   "metadata": {},
   "outputs": [
    {
     "data": {
      "text/plain": [
       "np.uint32(3232236010)"
      ]
     },
     "execution_count": 11,
     "metadata": {},
     "output_type": "execute_result"
    }
   ],
   "source": [
    "ip = np.uint32(0xC0A801EA)\n",
    "\n",
    "ip"
   ]
  },
  {
   "cell_type": "code",
   "execution_count": 12,
   "id": "db91076a",
   "metadata": {},
   "outputs": [
    {
     "data": {
      "text/plain": [
       "np.uint32(4294967040)"
      ]
     },
     "execution_count": 12,
     "metadata": {},
     "output_type": "execute_result"
    }
   ],
   "source": [
    "subnet = np.uint32(0xFFFFFF00)\n",
    "\n",
    "subnet"
   ]
  },
  {
   "cell_type": "code",
   "execution_count": 14,
   "id": "4cf49f33",
   "metadata": {},
   "outputs": [
    {
     "data": {
      "text/plain": [
       "'0xc0a80100'"
      ]
     },
     "execution_count": 14,
     "metadata": {},
     "output_type": "execute_result"
    }
   ],
   "source": [
    "hex(ip & subnet)"
   ]
  },
  {
   "cell_type": "code",
   "execution_count": 15,
   "id": "c7b82e6f",
   "metadata": {},
   "outputs": [
    {
     "data": {
      "text/plain": [
       "'0xc0a801ea'"
      ]
     },
     "execution_count": 15,
     "metadata": {},
     "output_type": "execute_result"
    }
   ],
   "source": [
    "hex(ip)"
   ]
  },
  {
   "cell_type": "code",
   "execution_count": 17,
   "id": "50f09804",
   "metadata": {},
   "outputs": [
    {
     "data": {
      "text/plain": [
       "np.uint32(192)"
      ]
     },
     "execution_count": 17,
     "metadata": {},
     "output_type": "execute_result"
    }
   ],
   "source": [
    "ip >> 24"
   ]
  },
  {
   "cell_type": "code",
   "execution_count": 19,
   "id": "20ec1ca1",
   "metadata": {},
   "outputs": [
    {
     "data": {
      "text/plain": [
       "'0xc0a8'"
      ]
     },
     "execution_count": 19,
     "metadata": {},
     "output_type": "execute_result"
    }
   ],
   "source": [
    "hex(ip >> 16)"
   ]
  },
  {
   "cell_type": "code",
   "execution_count": 20,
   "id": "6928c301",
   "metadata": {},
   "outputs": [
    {
     "data": {
      "text/plain": [
       "np.uint32(168)"
      ]
     },
     "execution_count": 20,
     "metadata": {},
     "output_type": "execute_result"
    }
   ],
   "source": [
    "(ip >> 16) & 0xff"
   ]
  },
  {
   "cell_type": "code",
   "execution_count": null,
   "id": "bd0cf0ec",
   "metadata": {},
   "outputs": [],
   "source": []
  }
 ],
 "metadata": {
  "kernelspec": {
   "display_name": "computational-theory",
   "language": "python",
   "name": "python3"
  },
  "language_info": {
   "codemirror_mode": {
    "name": "ipython",
    "version": 3
   },
   "file_extension": ".py",
   "mimetype": "text/x-python",
   "name": "python",
   "nbconvert_exporter": "python",
   "pygments_lexer": "ipython3",
   "version": "3.13.7"
  }
 },
 "nbformat": 4,
 "nbformat_minor": 5
}
