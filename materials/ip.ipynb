{
 "cells": [
  {
   "cell_type": "markdown",
   "id": "c42eaa14",
   "metadata": {},
   "source": [
    "# IP Addresses"
   ]
  },
  {
   "cell_type": "code",
   "execution_count": 2,
   "id": "00b94049",
   "metadata": {},
   "outputs": [],
   "source": [
    "# Types.\n",
    "import numpy as np"
   ]
  },
  {
   "cell_type": "markdown",
   "id": "78a2a32e",
   "metadata": {},
   "source": [
    "IPv4 addresses typically look like four numbers separated by dots:\n",
    "\n",
    "`192.168.1.234`\n",
    "\n",
    "Each of the four values is an integer between 0 and 255 inclusive.\n",
    "\n",
    "This is because each number is in fact represented by a single byte.\n",
    "\n",
    "Note that 255 in binary is eight 1's: `0b111111`."
   ]
  },
  {
   "cell_type": "code",
   "execution_count": 3,
   "id": "bd399c54",
   "metadata": {},
   "outputs": [
    {
     "data": {
      "text/plain": [
       "255"
      ]
     },
     "execution_count": 3,
     "metadata": {},
     "output_type": "execute_result"
    }
   ],
   "source": [
    "# A full byte.\n",
    "0b11111111"
   ]
  },
  {
   "cell_type": "code",
   "execution_count": 6,
   "id": "00b46676",
   "metadata": {},
   "outputs": [
    {
     "data": {
      "text/plain": [
       "True"
      ]
     },
     "execution_count": 6,
     "metadata": {},
     "output_type": "execute_result"
    }
   ],
   "source": [
    "# 192 in decimal is C0 in hexadecimal.\n",
    "192 == 12*(16**1) + 0*(16**0)"
   ]
  },
  {
   "cell_type": "code",
   "execution_count": 7,
   "id": "db064d48",
   "metadata": {},
   "outputs": [
    {
     "data": {
      "text/plain": [
       "192"
      ]
     },
     "execution_count": 7,
     "metadata": {},
     "output_type": "execute_result"
    }
   ],
   "source": [
    "# A hex literal that Python will print in decimal by default.\n",
    "0xC0"
   ]
  },
  {
   "cell_type": "code",
   "execution_count": 9,
   "id": "25e60006",
   "metadata": {},
   "outputs": [
    {
     "data": {
      "text/plain": [
       "'0xc0'"
      ]
     },
     "execution_count": 9,
     "metadata": {},
     "output_type": "execute_result"
    }
   ],
   "source": [
    "# The first part of the example IP.\n",
    "hex(192)"
   ]
  },
  {
   "cell_type": "code",
   "execution_count": null,
   "id": "4829c122",
   "metadata": {},
   "outputs": [
    {
     "data": {
      "text/plain": [
       "'0xa8'"
      ]
     },
     "execution_count": 6,
     "metadata": {},
     "output_type": "execute_result"
    }
   ],
   "source": [
    "# The second part of the example IP.\n",
    "hex(168)"
   ]
  },
  {
   "cell_type": "code",
   "execution_count": null,
   "id": "ec4a4ac8",
   "metadata": {},
   "outputs": [
    {
     "data": {
      "text/plain": [
       "'0x1'"
      ]
     },
     "execution_count": 7,
     "metadata": {},
     "output_type": "execute_result"
    }
   ],
   "source": [
    "# The third part of the example IP.\n",
    "hex(1)"
   ]
  },
  {
   "cell_type": "code",
   "execution_count": 10,
   "id": "b0a63853",
   "metadata": {},
   "outputs": [
    {
     "data": {
      "text/plain": [
       "'0xea'"
      ]
     },
     "execution_count": 10,
     "metadata": {},
     "output_type": "execute_result"
    }
   ],
   "source": [
    "# The fourth part.\n",
    "hex(234)"
   ]
  },
  {
   "cell_type": "code",
   "execution_count": 11,
   "id": "eaf929e0",
   "metadata": {},
   "outputs": [
    {
     "data": {
      "text/plain": [
       "'C0A801EA'"
      ]
     },
     "execution_count": 11,
     "metadata": {},
     "output_type": "execute_result"
    }
   ],
   "source": [
    "# Print the whole thing in hex.\n",
    "''.join(f\"{i:02X}\" for i in (192, 168, 1, 234))"
   ]
  },
  {
   "cell_type": "code",
   "execution_count": 13,
   "id": "57e48e98",
   "metadata": {},
   "outputs": [
    {
     "data": {
      "text/plain": [
       "np.uint32(3232236010)"
      ]
     },
     "execution_count": 13,
     "metadata": {},
     "output_type": "execute_result"
    }
   ],
   "source": [
    "# So our IP address as a single 32-bit unsigned integer is:\n",
    "ip = np.uint32(0xC0A801EA)\n",
    "\n",
    "ip"
   ]
  },
  {
   "cell_type": "markdown",
   "id": "9b383671",
   "metadata": {},
   "source": [
    "## Subnet Masks"
   ]
  },
  {
   "cell_type": "markdown",
   "id": "55f04851",
   "metadata": {},
   "source": [
    "A subnet mask is a 32‑bit value that separates the network part of an IPv4 address from the host part.\n",
    "\n",
    "It is usually written either as four dotted values:\n",
    "\n",
    "`255.255.255.0`\n",
    "\n",
    "or when written together with an IP address as a slash followed by a number of bits :\n",
    "\n",
    "`192.168.1.234/24`\n",
    "\n",
    "The mask must be a set of contiguous 1 bits followed by 0 bits making up 32 bits in total.\n",
    "\n",
    "To compute the network portion of an IP address, perform a bitwise AND (`&`) between the IP address and the subnet mask."
   ]
  },
  {
   "cell_type": "code",
   "execution_count": 15,
   "id": "db91076a",
   "metadata": {},
   "outputs": [
    {
     "data": {
      "text/plain": [
       "np.uint32(4294967040)"
      ]
     },
     "execution_count": 15,
     "metadata": {},
     "output_type": "execute_result"
    }
   ],
   "source": [
    "# A common subnet mask: 255.255.255.0\n",
    "subnet = np.uint32(0xFFFFFF00)\n",
    "\n",
    "# Show - not very useful to see in decimal though.\n",
    "subnet"
   ]
  },
  {
   "cell_type": "code",
   "execution_count": 17,
   "id": "4cf49f33",
   "metadata": {},
   "outputs": [
    {
     "data": {
      "text/plain": [
       "'0xc0a80100'"
      ]
     },
     "execution_count": 17,
     "metadata": {},
     "output_type": "execute_result"
    }
   ],
   "source": [
    "# The network part of the address is found by a bitwise AND.\n",
    "# Note this leaves 0s in the host part.\n",
    "hex(ip & subnet)"
   ]
  },
  {
   "cell_type": "code",
   "execution_count": 21,
   "id": "011470c0",
   "metadata": {},
   "outputs": [
    {
     "data": {
      "text/plain": [
       "'0xff'"
      ]
     },
     "execution_count": 21,
     "metadata": {},
     "output_type": "execute_result"
    }
   ],
   "source": [
    "# The host part of the IP address is found by a bitwise AND with the negated subnet mask.\n",
    "hex(~subnet)"
   ]
  },
  {
   "cell_type": "code",
   "execution_count": 20,
   "id": "b31bdd5f",
   "metadata": {},
   "outputs": [
    {
     "data": {
      "text/plain": [
       "'0xea'"
      ]
     },
     "execution_count": 20,
     "metadata": {},
     "output_type": "execute_result"
    }
   ],
   "source": [
    "# The host part of the address.\n",
    "hex(ip & ~subnet)"
   ]
  },
  {
   "cell_type": "markdown",
   "id": "3c5f51c9",
   "metadata": {},
   "source": [
    "## The Four Numbers"
   ]
  },
  {
   "cell_type": "markdown",
   "id": "654eb737",
   "metadata": {},
   "source": [
    "Suppose we label the four numbers of an IP address as:\n",
    "\n",
    "`W.X.Y.Z`\n",
    "\n",
    "How to we access each part?"
   ]
  },
  {
   "cell_type": "code",
   "execution_count": 25,
   "id": "44331b49",
   "metadata": {},
   "outputs": [
    {
     "data": {
      "text/plain": [
       "'0xc0a801ea'"
      ]
     },
     "execution_count": 25,
     "metadata": {},
     "output_type": "execute_result"
    }
   ],
   "source": [
    "# IP address.\n",
    "hex(ip)"
   ]
  },
  {
   "cell_type": "code",
   "execution_count": 24,
   "id": "50f09804",
   "metadata": {},
   "outputs": [
    {
     "data": {
      "text/plain": [
       "'0xc0'"
      ]
     },
     "execution_count": 24,
     "metadata": {},
     "output_type": "execute_result"
    }
   ],
   "source": [
    "# Get W by shifting right 24 bits.\n",
    "hex(ip >> 24)"
   ]
  },
  {
   "cell_type": "code",
   "execution_count": 27,
   "id": "20ec1ca1",
   "metadata": {},
   "outputs": [
    {
     "data": {
      "text/plain": [
       "'0xc0a8'"
      ]
     },
     "execution_count": 27,
     "metadata": {},
     "output_type": "execute_result"
    }
   ],
   "source": [
    "# Getting X is trickier - shifting keeps W.\n",
    "hex(ip >> 16)"
   ]
  },
  {
   "cell_type": "code",
   "execution_count": 30,
   "id": "6928c301",
   "metadata": {},
   "outputs": [
    {
     "data": {
      "text/plain": [
       "'0xa8'"
      ]
     },
     "execution_count": 30,
     "metadata": {},
     "output_type": "execute_result"
    }
   ],
   "source": [
    "# We can mask off everything but the last byte.\n",
    "hex((ip >> 16) & 0xff)"
   ]
  },
  {
   "cell_type": "code",
   "execution_count": 33,
   "id": "bd0cf0ec",
   "metadata": {},
   "outputs": [
    {
     "data": {
      "text/plain": [
       "'0x1'"
      ]
     },
     "execution_count": 33,
     "metadata": {},
     "output_type": "execute_result"
    }
   ],
   "source": [
    "# Same for Y, just a different shift.\n",
    "hex((ip >> 8) & 0xff)"
   ]
  },
  {
   "cell_type": "code",
   "execution_count": 34,
   "id": "76364e4e",
   "metadata": {},
   "outputs": [
    {
     "data": {
      "text/plain": [
       "'0xea'"
      ]
     },
     "execution_count": 34,
     "metadata": {},
     "output_type": "execute_result"
    }
   ],
   "source": [
    "# For Z, we can just use a mask.\n",
    "hex(ip & 0xff)"
   ]
  },
  {
   "cell_type": "code",
   "execution_count": 35,
   "id": "9aca1ed0",
   "metadata": {},
   "outputs": [],
   "source": [
    "def get_ip_parts(ip):\n",
    "    \"\"\"Get the four parts of an IP address.\"\"\"\n",
    "    w = (ip >> 24) & 0xff\n",
    "    x = (ip >> 16) & 0xff\n",
    "    y = (ip >> 8) & 0xff\n",
    "    z = ip & 0xff\n",
    "    return w, x, y, z"
   ]
  },
  {
   "cell_type": "code",
   "execution_count": 40,
   "id": "cfda2ed7",
   "metadata": {},
   "outputs": [
    {
     "data": {
      "text/plain": [
       "[np.uint32(192), np.uint32(168), np.uint32(1), np.uint32(234)]"
      ]
     },
     "execution_count": 40,
     "metadata": {},
     "output_type": "execute_result"
    }
   ],
   "source": [
    "# Try it out.\n",
    "get_ip_parts(ip)"
   ]
  },
  {
   "cell_type": "code",
   "execution_count": 41,
   "id": "d8b94003",
   "metadata": {},
   "outputs": [
    {
     "data": {
      "text/plain": [
       "['0xc0', '0xa8', '0x1', '0xea']"
      ]
     },
     "execution_count": 41,
     "metadata": {},
     "output_type": "execute_result"
    }
   ],
   "source": [
    "# In hex.\n",
    "[hex(part) for part in get_ip_parts(ip)]"
   ]
  },
  {
   "cell_type": "code",
   "execution_count": 42,
   "id": "32b8afb3",
   "metadata": {},
   "outputs": [],
   "source": [
    "# A slightly more compact version.\n",
    "def get_ip_parts(ip):\n",
    "    \"\"\"Get the four parts of an IP address.\"\"\"\n",
    "    return [(ip >> i) & 0xff for i in (24, 16, 8, 0)] "
   ]
  },
  {
   "cell_type": "code",
   "execution_count": 43,
   "id": "c4af0bf7",
   "metadata": {},
   "outputs": [
    {
     "data": {
      "text/plain": [
       "['0xc0', '0xa8', '0x1', '0xea']"
      ]
     },
     "execution_count": 43,
     "metadata": {},
     "output_type": "execute_result"
    }
   ],
   "source": [
    "# In hex.\n",
    "[hex(part) for part in get_ip_parts(ip)]"
   ]
  },
  {
   "cell_type": "markdown",
   "id": "13ccb026",
   "metadata": {},
   "source": [
    "## End"
   ]
  }
 ],
 "metadata": {
  "kernelspec": {
   "display_name": "computational-theory",
   "language": "python",
   "name": "python3"
  },
  "language_info": {
   "codemirror_mode": {
    "name": "ipython",
    "version": 3
   },
   "file_extension": ".py",
   "mimetype": "text/x-python",
   "name": "python",
   "nbconvert_exporter": "python",
   "pygments_lexer": "ipython3",
   "version": "3.13.7"
  }
 },
 "nbformat": 4,
 "nbformat_minor": 5
}
